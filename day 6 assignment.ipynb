{
 "cells": [
  {
   "cell_type": "markdown",
   "metadata": {},
   "source": [
    "# Question 1:\n",
    "__Assuming that we have some email addresses in the \"username@companyname.com\" format, please write program\n",
    "to print the company name of a given email address. Both user names and company names are composed of letters\n",
    "only.__\n",
    "* __Input Format:__ The first line of the input contains an email address.\n",
    "* __Output Format:__Print the company name in single line.\n",
    "* Example;\n",
    "* Input:john@google.com\n",
    "* Output: google"
   ]
  },
  {
   "cell_type": "code",
   "execution_count": 1,
   "metadata": {},
   "outputs": [
    {
     "name": "stdout",
     "output_type": "stream",
     "text": [
      "enter the email address:hrithik@yahoo.com\n",
      "yahoo\n"
     ]
    }
   ],
   "source": [
    "s = str(input(\"enter the email address:\"))\n",
    "s = s[s.find(\"@\")+1:s.find(\".\")]\n",
    "print(s)"
   ]
  },
  {
   "cell_type": "markdown",
   "metadata": {},
   "source": [
    "# Question 2:\n",
    "__Write a program that accepts a comma-separated sequence of words as input and prints the words in a comma\n",
    "separated sequence after sorting them alphabetically.__\n",
    "* __Input Format:__The first line of input contains words separated by the comma.\n",
    "* __Output Format:__Print the sorted words separated by the comma.\n",
    "* Example:\n",
    "* Input:without,hello,bag,world\n",
    "* Output:bag,hello,without,world"
   ]
  },
  {
   "cell_type": "code",
   "execution_count": 2,
   "metadata": {},
   "outputs": [
    {
     "name": "stdout",
     "output_type": "stream",
     "text": [
      "enter the words seperated by comma:zarkhi,novo,military,rozhok,farm\n",
      "farm,military,novo,rozhok,zarkhi,"
     ]
    }
   ],
   "source": [
    "string = str(input(\"enter the words seperated by comma:\"))\n",
    "lst = string.split(\",\")\n",
    "lst.sort()\n",
    "for i in lst:\n",
    "    print(i, end=\",\")"
   ]
  },
  {
   "cell_type": "markdown",
   "metadata": {},
   "source": [
    "# Question 3:\n",
    "__Create your own Jupyter Notebook for Sets. Reference link: https://www.w3schools.com/python/python_sets.asp__"
   ]
  },
  {
   "cell_type": "code",
   "execution_count": 3,
   "metadata": {},
   "outputs": [],
   "source": [
    "a = set([\"a\", 1, 2, 3, 4, 4, 5, 6])  # initialization of set"
   ]
  },
  {
   "cell_type": "code",
   "execution_count": 4,
   "metadata": {},
   "outputs": [
    {
     "data": {
      "text/plain": [
       "{1, 2, 3, 4, 5, 6, 'a'}"
      ]
     },
     "execution_count": 4,
     "metadata": {},
     "output_type": "execute_result"
    }
   ],
   "source": [
    "a  # display of set|"
   ]
  },
  {
   "cell_type": "code",
   "execution_count": 5,
   "metadata": {},
   "outputs": [
    {
     "data": {
      "text/plain": [
       "{1, 2, 23, 3, 4, 5, 6, 'a'}"
      ]
     },
     "execution_count": 5,
     "metadata": {},
     "output_type": "execute_result"
    }
   ],
   "source": [
    "a.add(23)  # add an element to set\n",
    "a"
   ]
  },
  {
   "cell_type": "code",
   "execution_count": 6,
   "metadata": {},
   "outputs": [
    {
     "data": {
      "text/plain": [
       "{1, 2, 23, 3, 4, 5, 6, 'a'}"
      ]
     },
     "execution_count": 6,
     "metadata": {},
     "output_type": "execute_result"
    }
   ],
   "source": [
    "b = a.copy()  # copying one element to another set\n",
    "b"
   ]
  },
  {
   "cell_type": "code",
   "execution_count": 7,
   "metadata": {},
   "outputs": [
    {
     "data": {
      "text/plain": [
       "{1, 2, 23, 3, 4, 5, '5', 6, 'a'}"
      ]
     },
     "execution_count": 7,
     "metadata": {},
     "output_type": "execute_result"
    }
   ],
   "source": [
    "b.update(\"5\")  # add element 5 to set b\n",
    "b"
   ]
  },
  {
   "cell_type": "code",
   "execution_count": 8,
   "metadata": {},
   "outputs": [
    {
     "data": {
      "text/plain": [
       "{'5'}"
      ]
     },
     "execution_count": 8,
     "metadata": {},
     "output_type": "execute_result"
    }
   ],
   "source": [
    "b.difference(a)  # set b difference with a"
   ]
  },
  {
   "cell_type": "code",
   "execution_count": 9,
   "metadata": {},
   "outputs": [
    {
     "data": {
      "text/plain": [
       "{1, 2, 23, 3, 4, 5, 6, 'a'}"
      ]
     },
     "execution_count": 9,
     "metadata": {},
     "output_type": "execute_result"
    }
   ],
   "source": [
    "b.intersection(a)  # display common elements using intersection"
   ]
  },
  {
   "cell_type": "code",
   "execution_count": 10,
   "metadata": {},
   "outputs": [
    {
     "data": {
      "text/plain": [
       "{1, 2, 23, 3, 4, 5, '5', 6, 'a'}"
      ]
     },
     "execution_count": 10,
     "metadata": {},
     "output_type": "execute_result"
    }
   ],
   "source": [
    "b.discard(\"2\")  # deleting element 2 from set b\n",
    "b"
   ]
  },
  {
   "cell_type": "code",
   "execution_count": 11,
   "metadata": {},
   "outputs": [
    {
     "data": {
      "text/plain": [
       "{1, 2, 23, 3, 4, 5, '5', 6, 'a'}"
      ]
     },
     "execution_count": 11,
     "metadata": {},
     "output_type": "execute_result"
    }
   ],
   "source": [
    "b.union(a)  # elements after union of a and b"
   ]
  },
  {
   "cell_type": "code",
   "execution_count": 12,
   "metadata": {},
   "outputs": [
    {
     "data": {
      "text/plain": [
       "{1, 2, 23, 3, 4, 5, 6, 'a'}"
      ]
     },
     "execution_count": 12,
     "metadata": {},
     "output_type": "execute_result"
    }
   ],
   "source": [
    "b.remove('5')  # removing element 5\n",
    "b"
   ]
  },
  {
   "cell_type": "code",
   "execution_count": 13,
   "metadata": {},
   "outputs": [
    {
     "data": {
      "text/plain": [
       "set()"
      ]
     },
     "execution_count": 13,
     "metadata": {},
     "output_type": "execute_result"
    }
   ],
   "source": [
    "b.clear()  # clearing the set\n",
    "b"
   ]
  },
  {
   "cell_type": "markdown",
   "metadata": {},
   "source": [
    "# Question 4:\n",
    "__Given a list of n-1 numbers ranging from 1 to n, your task is to find the missing number. There are no duplicates.__\n",
    "\n",
    "* __Input Format:__ The first line contains n-1 numbers with each number separated by a space. \n",
    "\n",
    "* __Output Format__: Print the missing number \n",
    "\n",
    "* Example: \n",
    "* Input:1 2 4 6 3 7 8 \n",
    "* Output:5\n",
    "\n",
    "\n",
    "* __Explanation:__ In the above list of numbers 5 is missing and hence 5 is the input"
   ]
  },
  {
   "cell_type": "code",
   "execution_count": 19,
   "metadata": {},
   "outputs": [
    {
     "name": "stdout",
     "output_type": "stream",
     "text": [
      "1 2 3 4 6 7\n",
      "{1, 2, 3, 4, 6, 7}\n",
      "{1, 2, 3, 4, 5, 6, 7}\n",
      "{5}\n"
     ]
    }
   ],
   "source": [
    "n = input()\n",
    "l=[]\n",
    "set1 = set()\n",
    "set2 = set()\n",
    "for i in n:\n",
    "    if(i != \" \"):\n",
    "        set1.add(int(i))\n",
    "for j in range(1, len(set1)+2):\n",
    "    set2.add(j)\n",
    "print(set1)\n",
    "print(set2)\n",
    "print(set2-set1)"
   ]
  },
  {
   "cell_type": "code",
   "execution_count": 17,
   "metadata": {},
   "outputs": [
    {
     "name": "stdout",
     "output_type": "stream",
     "text": [
      "1 2 5 7 9 12\n",
      "[1, 2, 5, 7, 9, 12]\n",
      "[3, 4, 6, 8, 10, 11]\n"
     ]
    }
   ],
   "source": [
    "def find_missing(lst): \n",
    "    return [x for x in range(lst[0], lst[-1]+1)  \n",
    "                               if x not in lst] \n",
    "n= input()\n",
    "lx=list(map(int,n.split())) \n",
    "\n",
    "print(lx)\n",
    "print(find_missing(lx)) "
   ]
  },
  {
   "cell_type": "markdown",
   "metadata": {},
   "source": [
    "# Question 5:\n",
    "__With a given list L, write a program to print this list L after removing all duplicate values with original order reserved.__\n",
    "\n",
    "* Example: If the input list is 12 24 35 24 88 120 155 88 120 155\n",
    "\n",
    "* Then the output should be 12 24 35 88 120 155\n",
    "\n",
    "* __Explanation:__ Third, seventh and ninth element of the list L has been removed because it was already present. Input Format: In one line take the elements of the list L with each element separated by a space. Output Format: Print the elements of the modified list in one line with each element separated by a space. Example: Input: 12 24 35 24 Output: 12 24 35"
   ]
  },
  {
   "cell_type": "code",
   "execution_count": 6,
   "metadata": {},
   "outputs": [
    {
     "name": "stdout",
     "output_type": "stream",
     "text": [
      "12 24 35 24 88 120 155 88 120 155\n",
      "12 24 35 88 120 155 "
     ]
    }
   ],
   "source": [
    "n = input()\n",
    "a = n.split(\" \")\n",
    "lst = []\n",
    "set1 = set()\n",
    "set2 = set()\n",
    "lst2 = []\n",
    "lst3 = []\n",
    "\n",
    "for i in a:\n",
    "    if(i != \" \"):\n",
    "\n",
    "        lst.append(i)\n",
    "e = set(lst)\n",
    "\n",
    "\n",
    "for j in e:\n",
    "    lst2.append(int(j))\n",
    "\n",
    "lst2.sort()\n",
    "\n",
    "for k in lst2:\n",
    "    print(k, end=\" \")"
   ]
  },
  {
   "cell_type": "code",
   "execution_count": 21,
   "metadata": {},
   "outputs": [
    {
     "name": "stdout",
     "output_type": "stream",
     "text": [
      "1 1 1 1 2 3 4 5 5 6 6 7\n",
      "1 2 3 4 5 6 7 "
     ]
    }
   ],
   "source": [
    "n = input()\n",
    "a = n.split(\" \")\n",
    "lst = []\n",
    "set1 = set()\n",
    "set2 = set()\n",
    "lst2 = []\n",
    "lst3 = []\n",
    "\n",
    "for i in a:\n",
    "    if(i != \" \"):\n",
    "\n",
    "        lst.append(i)\n",
    "e = set(lst)\n",
    "\n",
    "for j in e:\n",
    "    lst2.append(int(j))\n",
    "\n",
    "lst2.sort()\n",
    "\n",
    "for k in lst2:\n",
    "    print(k,end=\" \")"
   ]
  }
 ],
 "metadata": {
  "gist": {
   "data": {
    "description": "Desktop/aiml assignments/day 6 assignment.ipynb",
    "public": false
   },
   "id": ""
  },
  "kernelspec": {
   "display_name": "Python 3",
   "language": "python",
   "name": "python3"
  },
  "language_info": {
   "codemirror_mode": {
    "name": "ipython",
    "version": 3
   },
   "file_extension": ".py",
   "mimetype": "text/x-python",
   "name": "python",
   "nbconvert_exporter": "python",
   "pygments_lexer": "ipython3",
   "version": "3.7.6"
  },
  "toc": {
   "base_numbering": 1,
   "nav_menu": {},
   "number_sections": true,
   "sideBar": true,
   "skip_h1_title": false,
   "title_cell": "Table of Contents",
   "title_sidebar": "Contents",
   "toc_cell": false,
   "toc_position": {},
   "toc_section_display": true,
   "toc_window_display": false
  }
 },
 "nbformat": 4,
 "nbformat_minor": 4
}
