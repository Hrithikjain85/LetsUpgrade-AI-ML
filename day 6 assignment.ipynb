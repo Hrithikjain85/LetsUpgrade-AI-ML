{
 "cells": [
  {
   "cell_type": "markdown",
   "metadata": {},
   "source": [
    "# Question 1:\n",
    "__Assuming that we have some email addresses in the \"username@companyname.com\" format, please write program\n",
    "to print the company name of a given email address. Both user names and company names are composed of letters\n",
    "only.__\n",
    "* __Input Format:__ The first line of the input contains an email address.\n",
    "* __Output Format:__Print the company name in single line.\n",
    "* Example;\n",
    "* Input:john@google.com\n",
    "* Output: google"
   ]
  },
  {
   "cell_type": "code",
   "execution_count": 7,
   "metadata": {},
   "outputs": [
    {
     "name": "stdout",
     "output_type": "stream",
     "text": [
      "enter the email address:hrithik@yahoo.com\n",
      "yahoo\n"
     ]
    }
   ],
   "source": [
    "s = str(input(\"enter the email address:\"))\n",
    "s = s[s.find(\"@\")+1:s.find(\".\")]\n",
    "print(s)"
   ]
  },
  {
   "cell_type": "markdown",
   "metadata": {},
   "source": [
    "# Question 2:\n",
    "__Write a program that accepts a comma-separated sequence of words as input and prints the words in a comma\n",
    "separated sequence after sorting them alphabetically.__\n",
    "* __Input Format:__The first line of input contains words separated by the comma.\n",
    "* __Output Format:__Print the sorted words separated by the comma.\n",
    "* Example:\n",
    "* Input:without,hello,bag,world\n",
    "* Output:bag,hello,without,world"
   ]
  },
  {
   "cell_type": "code",
   "execution_count": 25,
   "metadata": {},
   "outputs": [
    {
     "name": "stdout",
     "output_type": "stream",
     "text": [
      "enter the words seperated by comma:zarkhi,novo,military,rozhok,farm\n",
      "farm,military,novo,rozhok,zarkhi,"
     ]
    }
   ],
   "source": [
    "string=str(input(\"enter the words seperated by comma:\"))\n",
    "lst = string.split(\",\")\n",
    "lst.sort()\n",
    "for i in lst:\n",
    "    print(i,end=\",\")"
   ]
  }
 ],
 "metadata": {
  "kernelspec": {
   "display_name": "Python 3",
   "language": "python",
   "name": "python3"
  },
  "language_info": {
   "codemirror_mode": {
    "name": "ipython",
    "version": 3
   },
   "file_extension": ".py",
   "mimetype": "text/x-python",
   "name": "python",
   "nbconvert_exporter": "python",
   "pygments_lexer": "ipython3",
   "version": "3.7.6"
  },
  "toc": {
   "base_numbering": 1,
   "nav_menu": {},
   "number_sections": true,
   "sideBar": true,
   "skip_h1_title": false,
   "title_cell": "Table of Contents",
   "title_sidebar": "Contents",
   "toc_cell": false,
   "toc_position": {},
   "toc_section_display": true,
   "toc_window_display": false
  }
 },
 "nbformat": 4,
 "nbformat_minor": 4
}
