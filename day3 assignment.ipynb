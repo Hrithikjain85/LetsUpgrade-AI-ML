{
 "cells": [
  {
   "cell_type": "markdown",
   "metadata": {},
   "source": [
    "# Question 1:\n",
    "__Write a program to subtract two complex numbers in Python.__"
   ]
  },
  {
   "cell_type": "code",
   "execution_count": 4,
   "metadata": {},
   "outputs": [
    {
     "name": "stdout",
     "output_type": "stream",
     "text": [
      "Enter the 1st complex number :5+12j\n",
      "Enter the 2nd complex number :25+4j\n",
      "(-20+8j)\n"
     ]
    }
   ],
   "source": [
    "a=complex(input(\"Enter the 1st complex number :\"))\n",
    "b=complex(input(\"Enter the 2nd complex number :\"))\n",
    "print(a-b)"
   ]
  },
  {
   "cell_type": "markdown",
   "metadata": {},
   "source": [
    "# Question 2:\n",
    "__Write a program to find the fourth root of a number__"
   ]
  },
  {
   "cell_type": "code",
   "execution_count": 5,
   "metadata": {},
   "outputs": [
    {
     "name": "stdout",
     "output_type": "stream",
     "text": [
      "Enter the number :22.22\n",
      "2.171130926442961\n"
     ]
    }
   ],
   "source": [
    "x=float(input(\"Enter the number :\"))\n",
    "print(x**(1/4))"
   ]
  },
  {
   "cell_type": "markdown",
   "metadata": {},
   "source": [
    "# Question 3:\n",
    "__Write a program to swap two numbers in Python with the help of a temporary variable.__"
   ]
  },
  {
   "cell_type": "code",
   "execution_count": 7,
   "metadata": {},
   "outputs": [
    {
     "name": "stdout",
     "output_type": "stream",
     "text": [
      "Enter the first  number :25\n",
      "Enter the second number :50\n",
      "Before swapping a= 25 b= 50\n",
      "After swapping a= 50 b= 25\n"
     ]
    }
   ],
   "source": [
    "a=int(input(\"Enter the first  number :\"))\n",
    "b=int(input(\"Enter the second number :\"))\n",
    "print(\"Before swapping\",\"a=\",a,\"b=\",b)\n",
    "temp=a\n",
    "a=b\n",
    "b=temp\n",
    "print(\"After swapping\",\"a=\",a,\"b=\",b)"
   ]
  },
  {
   "cell_type": "markdown",
   "metadata": {},
   "source": [
    "# Question 4:\n",
    "__Write a program to swap two numbers in Python without using a temporary variable.__"
   ]
  },
  {
   "cell_type": "code",
   "execution_count": 8,
   "metadata": {},
   "outputs": [
    {
     "name": "stdout",
     "output_type": "stream",
     "text": [
      "Enter the first  number :25\n",
      "Enter the second number :50\n",
      "Before swapping a= 25 b= 50\n",
      "After swapping a= 50 b= 25\n"
     ]
    }
   ],
   "source": [
    "a=int(input(\"Enter the first  number :\"))\n",
    "b=int(input(\"Enter the second number :\"))\n",
    "print(\"Before swapping\",\"a=\",a,\"b=\",b)\n",
    "a,b=b,a\n",
    "print(\"After swapping\",\"a=\",a,\"b=\",b)"
   ]
  },
  {
   "cell_type": "markdown",
   "metadata": {},
   "source": [
    "# Question 5:\n",
    "__Write a program to convert fahrenheit to kelvin and celsius both.__"
   ]
  },
  {
   "cell_type": "code",
   "execution_count": 11,
   "metadata": {},
   "outputs": [
    {
     "name": "stdout",
     "output_type": "stream",
     "text": [
      "Enter temperature in celsius: 25.2525\n",
      "25.25 Celsius is: 77.45 Fahrenheit\n"
     ]
    }
   ],
   "source": [
    "celsius = float(input(\"Enter temperature in celsius: \"))\n",
    "fahrenheit = (celsius * 9/5) + 32\n",
    "print('%0.2f Celsius is: %0.2f Fahrenheit' %(celsius, fahrenheit))"
   ]
  },
  {
   "cell_type": "code",
   "execution_count": 12,
   "metadata": {},
   "outputs": [
    {
     "name": "stdout",
     "output_type": "stream",
     "text": [
      "Enter temperature in fahrenheit: 100\n",
      "100.00 Fahrenheit is: 37.78 Celsius\n"
     ]
    }
   ],
   "source": [
    "fahrenheit = float(input(\"Enter temperature in fahrenheit: \"))\n",
    "celsius = (fahrenheit - 32) * 5/9\n",
    "print('%.2f Fahrenheit is: %0.2f Celsius' %(fahrenheit, celsius))"
   ]
  },
  {
   "cell_type": "markdown",
   "metadata": {},
   "source": [
    "# Question 6:\n",
    "__Write a program to demonstrate all the available data types in Python. Hint: Use type() function.__"
   ]
  },
  {
   "cell_type": "code",
   "execution_count": 13,
   "metadata": {},
   "outputs": [
    {
     "name": "stdout",
     "output_type": "stream",
     "text": [
      "<class 'int'>\n",
      "<class 'float'>\n",
      "<class 'str'>\n",
      "<class 'bool'>\n"
     ]
    }
   ],
   "source": [
    "a=4\n",
    "print(type(a))\n",
    "a=5.0\n",
    "print(type(a))\n",
    "a=\"axel\"\n",
    "print(type(a))\n",
    "a=True\n",
    "print(type(a))"
   ]
  },
  {
   "cell_type": "markdown",
   "metadata": {},
   "source": [
    "# Question 7:\n",
    "__Create a Markdown cell in jupyter and list the steps discussed in the session by Dr. Darshan Ingle sir to create Github profile and upload Githubs Assignment link.__"
   ]
  },
  {
   "cell_type": "markdown",
   "metadata": {},
   "source": [
    "1. Create a github profile or an account.\n",
    "2. Setting up an github account is as similar to signing in using google\n",
    "3. Enter the user name as needed and verify the email as to validate your account. \n",
    "4. Once done, create a repository and name it \"LetsUpgrade AI/ML\" \n",
    "5. Save you project as ipynb file and shift the file to a folder named as the date of the assignment.\n",
    "6. Upload the folder and copy the github url. \n",
    "7. Check the url using incognito mode for its public validity. \n",
    "8. Fill and submit then google form from community and fill the url block with the github url. \n",
    "9. Assignment has been sucessfully uploaded"
   ]
  }
 ],
 "metadata": {
  "kernelspec": {
   "display_name": "Python 3",
   "language": "python",
   "name": "python3"
  },
  "language_info": {
   "codemirror_mode": {
    "name": "ipython",
    "version": 3
   },
   "file_extension": ".py",
   "mimetype": "text/x-python",
   "name": "python",
   "nbconvert_exporter": "python",
   "pygments_lexer": "ipython3",
   "version": "3.7.3"
  }
 },
 "nbformat": 4,
 "nbformat_minor": 2
}
